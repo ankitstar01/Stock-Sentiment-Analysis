{
  "nbformat": 4,
  "nbformat_minor": 0,
  "metadata": {
    "colab": {
      "name": "Prediction-Model.ipynb",
      "provenance": [],
      "collapsed_sections": [],
      "include_colab_link": true
    },
    "kernelspec": {
      "name": "python3",
      "display_name": "Python 3"
    }
  },
  "cells": [
    {
      "cell_type": "markdown",
      "metadata": {
        "id": "view-in-github",
        "colab_type": "text"
      },
      "source": [
        "<a href=\"https://colab.research.google.com/github/ankitstar01/Stock-Sentiment-Analysis/blob/master/Prediction_Model.ipynb\" target=\"_parent\"><img src=\"https://colab.research.google.com/assets/colab-badge.svg\" alt=\"Open In Colab\"/></a>"
      ]
    },
    {
      "cell_type": "code",
      "metadata": {
        "id": "ef871i4NTxS5",
        "colab": {
          "base_uri": "https://localhost:8080/"
        },
        "outputId": "7046f7e6-e3e7-4f5c-b3a7-4bcf1ccdf339"
      },
      "source": [
        "!pip install polygon-api-client\n",
        "!pip install finnhub-python\n",
        "!mkdir Data\n",
        "!mkdir Data/Recent\n",
        "!mkdir Data/Historic\n",
        "!mkdir Models\n",
        "!mkdir Scale\n",
        "\n",
        "import pandas as pd\n",
        "import numpy as np\n",
        "import keras\n",
        "import matplotlib.pyplot as plt\n",
        "import pprint\n",
        "import time\n",
        "import finnhub\n",
        "import nltk\n",
        "\n",
        "from textblob import TextBlob\n",
        "from datetime import datetime\n",
        "from sklearn.preprocessing import MinMaxScaler\n",
        "from polygon import RESTClient\n",
        "from tensorflow.keras import Sequential\n",
        "from tensorflow.keras.layers import Dense, LSTM, Dropout, Activation\n",
        "from keras.callbacks import EarlyStopping\n",
        "\n",
        "nltk.download('punkt')"
      ],
      "execution_count": null,
      "outputs": [
        {
          "output_type": "stream",
          "text": [
            "[nltk_data] Downloading package punkt to /root/nltk_data...\n",
            "[nltk_data]   Package punkt is already up-to-date!\n"
          ],
          "name": "stdout"
        },
        {
          "output_type": "execute_result",
          "data": {
            "text/plain": [
              "True"
            ]
          },
          "metadata": {
            "tags": []
          },
          "execution_count": 1
        }
      ]
    },
    {
      "cell_type": "code",
      "metadata": {
        "id": "m7xrAJ6DqGRv"
      },
      "source": [
        "def get_historic_data(ticker, time_horizon, time_span, key):\n",
        "    f = open('Data/Historic/' + time_span + ticker + '.csv', 'w')\n",
        "    with RESTClient(key) as client:\n",
        "        resp = []\n",
        "        f.write('timestamp,open,low,high,volume,close\\n')\n",
        "        resp3 = client.stocks_equities_aggregates(ticker=ticker, multiplier=time_horizon, timespan=time_span,\n",
        "                                                 from_='2020-07-29', to='2021-09-29', unadjusted=False,\n",
        "                                                 sort='asc', limit=50000)\n",
        "        resp3 = resp3.results\n",
        "        for query in resp3:\n",
        "            f.write(str(query['t']) + ',' + str(query['o']) + ',' + str(query['l']) + ','\n",
        "                    + str(query['h']) + ',' + str(query['v']) + ',' + str(query['c']) + '\\n')\n",
        "\n",
        "        resp = client.stocks_equities_aggregates(ticker=ticker, multiplier=time_horizon, timespan=time_span,\n",
        "                                                 from_='2020-09-29', to='2020-11-28', unadjusted=False,\n",
        "                                                 sort='asc', limit=50000)\n",
        "        resp = resp.results\n",
        "        for query in resp:\n",
        "            f.write(str(query['t']) + ',' + str(query['o']) + ',' + str(query['l']) + ','\n",
        "                    + str(query['h']) + ',' + str(query['v']) + ',' + str(query['c']) + '\\n')\n",
        "            \n",
        "        resp2 = client.stocks_equities_aggregates(ticker=ticker, multiplier=time_horizon, timespan=time_span,\n",
        "                                                 from_='2020-11-29', to='2021-02-19', unadjusted=False,\n",
        "                                                 sort='asc', limit=50000)\n",
        "        resp2 = resp2.results\n",
        "        for query in resp2:\n",
        "            f.write(str(query['t']) + ',' + str(query['o']) + ',' + str(query['l']) + ','\n",
        "                    + str(query['h']) + ',' + str(query['v']) + ',' + str(query['c']) + '\\n')\n",
        "    f.close()\n",
        "    f = open('Data/Historic/' + time_span + ticker + '.csv', 'r')\n",
        "    df = pd.read_csv(f)\n",
        "    return df"
      ],
      "execution_count": null,
      "outputs": []
    },
    {
      "cell_type": "code",
      "metadata": {
        "id": "suS_1rQ1qJUJ"
      },
      "source": [
        "def preprocess_training_data(training_df):\n",
        "    training_df = training_df.drop(['timestamp'], axis=1)\n",
        "    scaler = MinMaxScaler()\n",
        "    scaler_df = training_df.copy()\n",
        "    scaler.fit_transform(scaler_df)\n",
        "    scaler = scaler.scale_\n",
        "    training_df['open'] *= scaler[0]\n",
        "    training_df['low'] *= scaler[1]\n",
        "    training_df['high'] *= scaler[2]\n",
        "    training_df['volume'] *= scaler[3]\n",
        "    training_df['close'] *= scaler[4]\n",
        "\n",
        "    x_train, y_train = [], []\n",
        "    training_df = np.asarray(training_df)\n",
        "    for i in range(6, training_df.shape[0]):\n",
        "        x_train.append(training_df[i - 6: i])\n",
        "        y_train.append(training_df[i, 0])\n",
        "    x_train, y_train,xv,yv , x_test,y_test = np.asarray(x_train[:-200]), np.asarray(y_train[:-200]),np.array(x_train[-200:-100]), np.array(y_train[-200:-100]),np.asarray(x_train[-100:]), np.asarray(y_train[-100:])\n",
        "    return x_train, y_train,xv,yv,x_test,y_test, scaler"
      ],
      "execution_count": null,
      "outputs": []
    },
    {
      "cell_type": "code",
      "metadata": {
        "id": "XxEeGZFcrPN0"
      },
      "source": [
        "def save_scaler(ticker):\n",
        "    f = open('Scale/' + ticker + '.csv', 'w') \n",
        "    f.write(str(scaler[0]) + '\\n')\n",
        "    f.write(str(scaler[1]) + '\\n')\n",
        "    f.write(str(scaler[2]) + '\\n')\n",
        "    f.write(str(scaler[3]) + '\\n')\n",
        "    f.write(str(scaler[4]) + '\\n')"
      ],
      "execution_count": null,
      "outputs": []
    },
    {
      "cell_type": "code",
      "metadata": {
        "id": "wzRYty5PqNTH"
      },
      "source": [
        "def get_recent_data(ticker, key, time_horizon, time_span):\n",
        "    f = open('Data/Recent/' + time_span + ticker + '.csv', 'w')\n",
        "    with RESTClient(key) as client:\n",
        "        resp = client.stocks_equities_aggregates(ticker=ticker, multiplier=time_horizon, timespan=time_span,\n",
        "                                                 from_='2021-02-19', to=date, unadjusted=False,\n",
        "                                                 sort='asc', limit=50000)\n",
        "        resp = resp.results\n",
        "        f.write('timestamp,open,low,high,volume,close\\n')\n",
        "        for query in resp:\n",
        "            f.write(str(query['t']) + ',' + str(query['o']) + ',' + str(query['l']) + ','\n",
        "                    + str(query['h']) + ',' + str(query['v']) + ',' + str(query['c']) + '\\n')\n",
        "    f.close()"
      ],
      "execution_count": null,
      "outputs": []
    },
    {
      "cell_type": "code",
      "metadata": {
        "id": "624e59eiqPl5"
      },
      "source": [
        "def update_recent_data(ticker, key, time_horizon, time_span):\n",
        "    f = open('Data/Recent/' + time_span + ticker + '.csv', 'a')\n",
        "    with RESTClient(key) as client:\n",
        "        resp = client.stocks_equities_aggregates(ticker=ticker, multiplier=time_horizon, timespan=time_span,\n",
        "                                                 from_='2021-02-19', to=date, unadjusted=False,\n",
        "                                                 sort='desc', limit=50000)\n",
        "        query = resp.results[0]\n",
        "        f.write(str(query['t']) + ',' + str(query['o']) + ',' + str(query['l']) + ','\n",
        "                + str(query['h']) + ',' + str(query['v']) + ',' + str(query['c']) + '\\n')\n",
        "    f.close()\n",
        "    f = open('Data/Recent/' + time_span + ticker + '.csv', 'r')\n",
        "    entry_price = resp.results[4]['o']\n",
        "    recent_df = pd.read_csv(f)[:-1]\n",
        "    return recent_df, entry_price"
      ],
      "execution_count": null,
      "outputs": []
    },
    {
      "cell_type": "code",
      "metadata": {
        "id": "fcpWnuY2qSgC"
      },
      "source": [
        "def preprocess_recent_data(recent_df, scaler):\n",
        "    recent_df = recent_df.drop(['timestamp'], axis=1)\n",
        "    recent_df['open'] *= scaler[0]\n",
        "    recent_df['low'] *= scaler[1]\n",
        "    recent_df['high'] *= scaler[2]\n",
        "    recent_df['volume'] *= scaler[3]\n",
        "    recent_df['close'] *= scaler[4]\n",
        "    df = [recent_df[-6:]]\n",
        "    df = np.asarray(df)\n",
        "    return df"
      ],
      "execution_count": null,
      "outputs": []
    },
    {
      "cell_type": "code",
      "metadata": {
        "id": "EWeegdSZqUtB"
      },
      "source": [
        "def get_prediction(model, scaler, last_data):\n",
        "    prediction = model.predict(last_data)\n",
        "    prediction *= 1/scaler[0]\n",
        "    return prediction"
      ],
      "execution_count": null,
      "outputs": []
    },
    {
      "cell_type": "code",
      "metadata": {
        "id": "OD3KoO2SqWfA"
      },
      "source": [
        "def create_rnn(ticker, training_input, training_output,xv,yv):\n",
        "    model = Sequential()\n",
        "\n",
        "    model.add(LSTM(units=50,\n",
        "                   activation='selu',\n",
        "                   input_shape=(6, 6),\n",
        "                   return_sequences=True))\n",
        "    model.add(Dropout(0.2))\n",
        "    \n",
        "    model.add(LSTM(units=60,\n",
        "                   activation='selu',\n",
        "                   return_sequences=True))\n",
        "    \n",
        "    model.add(Dropout(0.2))\n",
        "    model.add(LSTM(units=80, \n",
        "                   activation='selu',\n",
        "                   return_sequences=True))\n",
        "    model.add(Dropout(0.2))\n",
        "\n",
        "    model.add(LSTM(units=100,\n",
        "                   activation='selu',\n",
        "                   return_sequences=False\n",
        "                   ))\n",
        "    model.add(Dropout(0.2))\n",
        "\n",
        "    model.add(Dense(25))\n",
        "    model.add(Dense(1))\n",
        "    model.add(Activation('linear'))\n",
        "    \n",
        "    return model"
      ],
      "execution_count": null,
      "outputs": []
    },
    {
      "cell_type": "code",
      "metadata": {
        "id": "WOKB0HfSqZHU"
      },
      "source": [
        "def train_model(model, training_input, training_output, xv, yv):\n",
        "    model.compile(optimizer='adam', loss='mean_squared_error')\n",
        "    es=EarlyStopping(monitor='val_loss',mode='min',patience=5,verbose=1)\n",
        "\n",
        "    model.fit(\n",
        "        training_input, training_output,validation_data=(xv,yv), \n",
        "        epochs=100, batch_size=24,verbose=1,callbacks=[es]\n",
        "        )"
      ],
      "execution_count": null,
      "outputs": []
    },
    {
      "cell_type": "code",
      "metadata": {
        "id": "s_QlSJTIqgX8"
      },
      "source": [
        "def visualize_model(predictions, answers, ticker):\n",
        "    plt.figure(figsize=(15, 5))\n",
        "    plt.plot(answers, c='r', label='Real' + ' ' + ticker + ' ' + 'Stock Price')\n",
        "    plt.plot(predictions, c='c', label='Prediction' + ' ' + ticker + ' ' + 'Stock Price')\n",
        "    plt.xlabel('time')\n",
        "    plt.ylabel(ticker + ' ' + 'Stock Price')\n",
        "    plt.legend()\n",
        "    plt.show()"
      ],
      "execution_count": null,
      "outputs": []
    },
    {
      "cell_type": "code",
      "metadata": {
        "id": "0-B-tn9_r1Po"
      },
      "source": [
        "def get_average(predictions, answer):\n",
        "  difference = 0\n",
        "  tests = 0\n",
        "  for i in range(len(answers) - 1000, len(answers)):\n",
        "      tests += 1\n",
        "      difference += answers[i] - predictions[i][0]\n",
        "  average = difference/tests\n",
        "  return average"
      ],
      "execution_count": null,
      "outputs": []
    },
    {
      "cell_type": "code",
      "metadata": {
        "id": "h4wu___Rqi1t"
      },
      "source": [
        "def get_prev_difference(ticker, api_key):\n",
        "    with RESTClient(api_key) as client:\n",
        "        resp = client.stocks_equities_previous_close(ticker, unadjusted=False)\n",
        "        resp = resp.results\n",
        "        previous_close = resp['c']\n",
        "        resp2 = client.stocks_equities_daily_open_close()\n",
        "        todays_open = resp['open']\n",
        "        difference = todays_open - previous_close\n",
        "        return previous_close, todays_open, difference\n"
      ],
      "execution_count": null,
      "outputs": []
    },
    {
      "cell_type": "code",
      "metadata": {
        "id": "HnoV2rm5qlkP"
      },
      "source": [
        "def r(x,y):\n",
        "  if(y/x>1.5):\n",
        "    return 1.5\n",
        "  elif(y/x<-1.4):\n",
        "    return (-1.4)\n",
        "  else:\n",
        "    return y/x"
      ],
      "execution_count": null,
      "outputs": []
    },
    {
      "cell_type": "code",
      "metadata": {
        "id": "VtwyANYaqsE2"
      },
      "source": [
        "def probablity(pred, y_test,recent_news_polarity):\n",
        "    n = len(pred)\n",
        "    prob = []\n",
        "    for j in range(5, n):\n",
        "        p = 50\n",
        "        new_polarity_effect=0\n",
        "        if(pred[i]>pred[i-1] and recent_news_polarity>0):\n",
        "          np=15*recent_news_polarity\n",
        "        elif(pred[i]<pred[i-1] and recent_news_polarity<0):\n",
        "          np=-1*10*recent_news_polarity\n",
        "        else:\n",
        "          np=-1*10*recent_news_polarity\n",
        "\n",
        "        for i in range(j-5, j):\n",
        "            pp = (pred[i] - pred[i-1]) / pred[i-1]\n",
        "            tp = (y_test[i] - y_test[i-1]) / y_test[i-1]\n",
        "            if (r(pp, tp) <0 ):\n",
        "                p = p+ (p) * (r(pp, tp) / 10)\n",
        "            else:\n",
        "                p = p + (100 - p) * (r(pp, tp) / 10)\n",
        "            prob.append(p)\n",
        "    return prob+np"
      ],
      "execution_count": null,
      "outputs": []
    },
    {
      "cell_type": "code",
      "metadata": {
        "id": "efL43j1_quGG"
      },
      "source": [
        "def get_prediction_details(ticker, key, time_horizon, time_span, prediction, entry_price):\n",
        "    result = {  \n",
        "        'Ticker': ticker,\n",
        "        'Entry Price': entry_price,\n",
        "        'Potential Target Price': prediction,\n",
        "        'Profit': round(prediction / entry_price * 100 - 100, 3), \n",
        "        'Time Horizon': str(time_horizon) + ' ' + time_span + 's',\n",
        "    }\n",
        "    return result"
      ],
      "execution_count": null,
      "outputs": []
    },
    {
      "cell_type": "code",
      "metadata": {
        "id": "aaAjst6ULMFl"
      },
      "source": [
        "def get_news(ticker):\n",
        "    client = finnhub.Client(\"c0opefv48v6rduk5oegg\")\n",
        "    resp = client.company_news('NIO', '2020-12-11', '2021-02-19')\n",
        "    df = pd.DataFrame(resp)\n",
        "    resp2 = client.company_news('NIO', '2020-11-02', '2020-12-11')\n",
        "    df2 = pd.DataFrame(resp2)\n",
        "    resp3 = client.company_news('NIO', '2020-09-27', '2020-11-02')\n",
        "    df3 = pd.DataFrame(resp3)\n",
        "    resp4 = client.company_news('NIO', '2020-07-27', '2020-09-27')\n",
        "    df4 = pd.DataFrame(resp4)\n",
        "    df0 = pd.concat([df, df2])\n",
        "    df = pd.concat([df0, df3])\n",
        "    df = pd.concat([df, df4])\n",
        "    df['datetime'] = df['datetime'].apply(lambda x:datetime.fromtimestamp(x))\n",
        "    df = df.drop(['url'], axis=1)\n",
        "    df = df.drop(['id'], axis=1)\n",
        "    df = df.drop(['image'], axis=1)\n",
        "    df = df.drop(['source'], axis=1)\n",
        "    df = df.drop(['related'], axis=1)\n",
        "    df = df.drop(['category'], axis=1)\n",
        "    df = df.reset_index()\n",
        "    df = df.drop(['index'], axis=1)\n",
        "    df = df.iloc[::-1]\n",
        "    df = df.reset_index()\n",
        "    df = df.drop(['index'], axis=1)\n",
        "    return df"
      ],
      "execution_count": null,
      "outputs": []
    },
    {
      "cell_type": "code",
      "metadata": {
        "id": "h3PnySYYdBdd"
      },
      "source": [
        "def get_recent_news(ticker):\n",
        "    client = finnhub.Client(\"c0opefv48v6rduk5oegg\")\n",
        "    resp = client.company_news('NIO', '2021-02-19', '2021-02-24')\n",
        "    df = pd.DataFrame(resp)\n",
        "    df['datetime'] = df['datetime'].apply(lambda x:datetime.fromtimestamp(x))\n",
        "    df = df.drop(['url'], axis=1)\n",
        "    df = df.drop(['id'], axis=1)\n",
        "    df = df.drop(['image'], axis=1)\n",
        "    df = df.drop(['source'], axis=1)\n",
        "    df = df.drop(['related'], axis=1)\n",
        "    df = df.drop(['category'], axis=1)\n",
        "    df = df.reset_index()\n",
        "    df = df.drop(['index'], axis=1)\n",
        "    df = df.iloc[::-1]\n",
        "    df = df.reset_index()\n",
        "    df = df.drop(['index'], axis=1)\n",
        "    return df"
      ],
      "execution_count": null,
      "outputs": []
    },
    {
      "cell_type": "code",
      "metadata": {
        "id": "LH3OmTW35Z8F"
      },
      "source": [
        "def classify(classifier, document, words):\n",
        "    document_words = extract_words(document)\n",
        "    features = {\n",
        "        word: (word in document_words)\n",
        "        for word in words\n",
        "    }\n",
        "    return classifier.prob_classify(features)"
      ],
      "execution_count": null,
      "outputs": []
    },
    {
      "cell_type": "code",
      "metadata": {
        "id": "6tiZ_sht5a2M"
      },
      "source": [
        "def generate_features(documents, words, label):\n",
        "    features = []\n",
        "    for document in documents:\n",
        "        features.append(({\n",
        "            word: (word in document)\n",
        "            for word in words\n",
        "        }, label))\n",
        "    return features\n"
      ],
      "execution_count": null,
      "outputs": []
    },
    {
      "cell_type": "code",
      "metadata": {
        "id": "OKQHLFga5cjt"
      },
      "source": [
        "def extract_words(document):\n",
        "    return set(\n",
        "        word.lower() for word in nltk.word_tokenize(document)\n",
        "        if any(c.isalpha() for c in word)\n",
        "    )"
      ],
      "execution_count": null,
      "outputs": []
    },
    {
      "cell_type": "code",
      "metadata": {
        "id": "NxFcnels5fCa"
      },
      "source": [
        "def get_polarity(headline):\n",
        "    result = []\n",
        "    for file in [\"positives.txt\", \"negatives.txt\"]:\n",
        "        with open(file, 'r') as f:\n",
        "            result.append([extract_words(line) for line in f.read().splitlines()])\n",
        "    positives, negatives = result\n",
        "\n",
        "    words = set()\n",
        "    for document in positives:\n",
        "        words.update(document)\n",
        "    for document in negatives:\n",
        "        words.update(document)\n",
        "\n",
        "    training = []\n",
        "    training.extend(generate_features(positives, words, \"Positive\"))\n",
        "    training.extend(generate_features(negatives, words, \"Negative\"))\n",
        "\n",
        "    classifier = nltk.NaiveBayesClassifier.train(training)\n",
        "    result = (classify(classifier, headline, words))\n",
        "    return result.prob(\"Positive\")\n"
      ],
      "execution_count": null,
      "outputs": []
    },
    {
      "cell_type": "code",
      "metadata": {
        "id": "jnuTCstIS7qW"
      },
      "source": [
        "def combine_news_data(news_df, df):\n",
        "    x = []\n",
        "    j = 0\n",
        "    n = len(df)\n",
        "    f = 0\n",
        "    for i in range(len(news_df)):\n",
        "      p = 0\n",
        "      c = 0\n",
        "      while df['timestamp'].iloc[j] > news_df['datetime'].iloc[i]:\n",
        "        p = get_polarity(news_df['headline'].iloc[i])\n",
        "        c = c + 1\n",
        "        i = i + 1\n",
        "      if c > 0 :\n",
        "        p = p / c\n",
        "      while  df['timestamp'].iloc[j] < news_df['datetime'].iloc[i]:\n",
        "        if c > 0:\n",
        "          x.append(get_polarity(news_df['headline'].iloc[i]))\n",
        "        else:\n",
        "          x.append(p)\n",
        "        j = j + 1\n",
        "        if j == n:\n",
        "          f = 1\n",
        "          break\n",
        "      if f == 1:\n",
        "        break\n",
        "    df = pd.DataFrame(np.array(x),columns=['polarity'])\n",
        "    return df"
      ],
      "execution_count": null,
      "outputs": []
    },
    {
      "cell_type": "code",
      "metadata": {
        "id": "5NT6L-4QLrkU"
      },
      "source": [
        "api_key = 'vqeohd8x5k1x6PKiisJQS8RgS3A1iRQC'\n",
        "time_horizon = 'minute'\n",
        "multiplier = 15\n",
        "tickers = ['NIO', 'PLTR', 'RIOT', 'LIZI', 'BNGO', 'KLXE']\n",
        "ticker = 'NIO'\n",
        "date = '2021-02-23'"
      ],
      "execution_count": null,
      "outputs": []
    },
    {
      "cell_type": "code",
      "metadata": {
        "colab": {
          "base_uri": "https://localhost:8080/",
          "height": 419
        },
        "id": "rrQ0f35YLfl1",
        "outputId": "aacedfa9-4fa5-4c78-b7dc-e8fa47583310"
      },
      "source": [
        "news_df = get_news(ticker)\n",
        "news_df"
      ],
      "execution_count": null,
      "outputs": [
        {
          "output_type": "execute_result",
          "data": {
            "text/html": [
              "<div>\n",
              "<style scoped>\n",
              "    .dataframe tbody tr th:only-of-type {\n",
              "        vertical-align: middle;\n",
              "    }\n",
              "\n",
              "    .dataframe tbody tr th {\n",
              "        vertical-align: top;\n",
              "    }\n",
              "\n",
              "    .dataframe thead th {\n",
              "        text-align: right;\n",
              "    }\n",
              "</style>\n",
              "<table border=\"1\" class=\"dataframe\">\n",
              "  <thead>\n",
              "    <tr style=\"text-align: right;\">\n",
              "      <th></th>\n",
              "      <th>datetime</th>\n",
              "      <th>headline</th>\n",
              "      <th>summary</th>\n",
              "    </tr>\n",
              "  </thead>\n",
              "  <tbody>\n",
              "    <tr>\n",
              "      <th>0</th>\n",
              "      <td>2020-07-27 12:30:11</td>\n",
              "      <td>Tesla challengers Xpeng and Li Auto step up US...</td>\n",
              "      <td>Your source for credible news and authoritativ...</td>\n",
              "    </tr>\n",
              "    <tr>\n",
              "      <th>1</th>\n",
              "      <td>2020-07-27 13:31:18</td>\n",
              "      <td>Consumer Sector Update for 07/27/2020: ATHM,HA...</td>\n",
              "      <td>Consumer stocks were higher, with the SPDR Con...</td>\n",
              "    </tr>\n",
              "    <tr>\n",
              "      <th>2</th>\n",
              "      <td>2020-07-27 13:31:18</td>\n",
              "      <td>Consumer Sector Update for 07/27/2020: ATHM,HA...</td>\n",
              "      <td>Consumer stocks were higher, with the SPDR Con...</td>\n",
              "    </tr>\n",
              "    <tr>\n",
              "      <th>3</th>\n",
              "      <td>2020-07-27 15:52:52</td>\n",
              "      <td>Consumer Sector Update for 07/27/2020: CZR,ATH...</td>\n",
              "      <td>Consumer stocks extended their Monday advance,...</td>\n",
              "    </tr>\n",
              "    <tr>\n",
              "      <th>4</th>\n",
              "      <td>2020-07-27 15:52:52</td>\n",
              "      <td>Consumer Sector Update for 07/27/2020: CZR,ATH...</td>\n",
              "      <td>Consumer stocks extended their Monday advance,...</td>\n",
              "    </tr>\n",
              "    <tr>\n",
              "      <th>...</th>\n",
              "      <td>...</td>\n",
              "      <td>...</td>\n",
              "      <td>...</td>\n",
              "    </tr>\n",
              "    <tr>\n",
              "      <th>1590</th>\n",
              "      <td>2021-02-18 15:18:31</td>\n",
              "      <td>XPeng: Meet The Chinese Competitor Of Tesla</td>\n",
              "      <td>XPeng (XPEV) is one of the major electric vehi...</td>\n",
              "    </tr>\n",
              "    <tr>\n",
              "      <th>1591</th>\n",
              "      <td>2021-02-18 16:49:00</td>\n",
              "      <td>NIO Inc. ADR falls Thursday, underperforms market</td>\n",
              "      <td>The NIO Inc. ADR slid 5.04% to $54.43 Thursday...</td>\n",
              "    </tr>\n",
              "    <tr>\n",
              "      <th>1592</th>\n",
              "      <td>2021-02-19 10:01:33</td>\n",
              "      <td>Why NIO Stock's 12-Month Parabolic Rise May No...</td>\n",
              "      <td>NIO stock has enticed investors with great lev...</td>\n",
              "    </tr>\n",
              "    <tr>\n",
              "      <th>1593</th>\n",
              "      <td>2021-02-19 10:08:00</td>\n",
              "      <td>NIO Stock Is Slumping. There’s Probably Nothin...</td>\n",
              "      <td>American depositary receipts of NIO are down d...</td>\n",
              "    </tr>\n",
              "    <tr>\n",
              "      <th>1594</th>\n",
              "      <td>2021-02-19 16:49:00</td>\n",
              "      <td>NIO Inc. ADR rises Friday, outperforms market</td>\n",
              "      <td>The NIO Inc. ADR advanced 1.12% to $55.04 Frid...</td>\n",
              "    </tr>\n",
              "  </tbody>\n",
              "</table>\n",
              "<p>1595 rows × 3 columns</p>\n",
              "</div>"
            ],
            "text/plain": [
              "                datetime  ...                                            summary\n",
              "0    2020-07-27 12:30:11  ...  Your source for credible news and authoritativ...\n",
              "1    2020-07-27 13:31:18  ...  Consumer stocks were higher, with the SPDR Con...\n",
              "2    2020-07-27 13:31:18  ...  Consumer stocks were higher, with the SPDR Con...\n",
              "3    2020-07-27 15:52:52  ...  Consumer stocks extended their Monday advance,...\n",
              "4    2020-07-27 15:52:52  ...  Consumer stocks extended their Monday advance,...\n",
              "...                  ...  ...                                                ...\n",
              "1590 2021-02-18 15:18:31  ...  XPeng (XPEV) is one of the major electric vehi...\n",
              "1591 2021-02-18 16:49:00  ...  The NIO Inc. ADR slid 5.04% to $54.43 Thursday...\n",
              "1592 2021-02-19 10:01:33  ...  NIO stock has enticed investors with great lev...\n",
              "1593 2021-02-19 10:08:00  ...  American depositary receipts of NIO are down d...\n",
              "1594 2021-02-19 16:49:00  ...  The NIO Inc. ADR advanced 1.12% to $55.04 Frid...\n",
              "\n",
              "[1595 rows x 3 columns]"
            ]
          },
          "metadata": {
            "tags": []
          },
          "execution_count": 25
        }
      ]
    },
    {
      "cell_type": "code",
      "metadata": {
        "colab": {
          "base_uri": "https://localhost:8080/",
          "height": 204
        },
        "id": "ZOLlBKRUqxAS",
        "outputId": "99af6d9c-08ce-4a11-d7e6-58fa86ca09b7"
      },
      "source": [
        "df = get_historic_data(ticker, multiplier, time_horizon, api_key)\n",
        "df['timestamp']=df['timestamp'].apply(lambda x:datetime.fromtimestamp(x/1000))\n",
        "df.head()"
      ],
      "execution_count": null,
      "outputs": [
        {
          "output_type": "execute_result",
          "data": {
            "text/html": [
              "<div>\n",
              "<style scoped>\n",
              "    .dataframe tbody tr th:only-of-type {\n",
              "        vertical-align: middle;\n",
              "    }\n",
              "\n",
              "    .dataframe tbody tr th {\n",
              "        vertical-align: top;\n",
              "    }\n",
              "\n",
              "    .dataframe thead th {\n",
              "        text-align: right;\n",
              "    }\n",
              "</style>\n",
              "<table border=\"1\" class=\"dataframe\">\n",
              "  <thead>\n",
              "    <tr style=\"text-align: right;\">\n",
              "      <th></th>\n",
              "      <th>timestamp</th>\n",
              "      <th>open</th>\n",
              "      <th>low</th>\n",
              "      <th>high</th>\n",
              "      <th>volume</th>\n",
              "      <th>close</th>\n",
              "    </tr>\n",
              "  </thead>\n",
              "  <tbody>\n",
              "    <tr>\n",
              "      <th>0</th>\n",
              "      <td>2020-07-29 08:00:00</td>\n",
              "      <td>12.40</td>\n",
              "      <td>12.27</td>\n",
              "      <td>12.62</td>\n",
              "      <td>73778.0</td>\n",
              "      <td>12.57</td>\n",
              "    </tr>\n",
              "    <tr>\n",
              "      <th>1</th>\n",
              "      <td>2020-07-29 08:15:00</td>\n",
              "      <td>12.57</td>\n",
              "      <td>12.50</td>\n",
              "      <td>12.61</td>\n",
              "      <td>57808.0</td>\n",
              "      <td>12.59</td>\n",
              "    </tr>\n",
              "    <tr>\n",
              "      <th>2</th>\n",
              "      <td>2020-07-29 08:30:00</td>\n",
              "      <td>12.58</td>\n",
              "      <td>12.57</td>\n",
              "      <td>12.60</td>\n",
              "      <td>16746.0</td>\n",
              "      <td>12.57</td>\n",
              "    </tr>\n",
              "    <tr>\n",
              "      <th>3</th>\n",
              "      <td>2020-07-29 08:45:00</td>\n",
              "      <td>12.57</td>\n",
              "      <td>12.54</td>\n",
              "      <td>12.61</td>\n",
              "      <td>27065.0</td>\n",
              "      <td>12.60</td>\n",
              "    </tr>\n",
              "    <tr>\n",
              "      <th>4</th>\n",
              "      <td>2020-07-29 09:00:00</td>\n",
              "      <td>12.59</td>\n",
              "      <td>12.53</td>\n",
              "      <td>12.59</td>\n",
              "      <td>35497.0</td>\n",
              "      <td>12.54</td>\n",
              "    </tr>\n",
              "  </tbody>\n",
              "</table>\n",
              "</div>"
            ],
            "text/plain": [
              "            timestamp   open    low   high   volume  close\n",
              "0 2020-07-29 08:00:00  12.40  12.27  12.62  73778.0  12.57\n",
              "1 2020-07-29 08:15:00  12.57  12.50  12.61  57808.0  12.59\n",
              "2 2020-07-29 08:30:00  12.58  12.57  12.60  16746.0  12.57\n",
              "3 2020-07-29 08:45:00  12.57  12.54  12.61  27065.0  12.60\n",
              "4 2020-07-29 09:00:00  12.59  12.53  12.59  35497.0  12.54"
            ]
          },
          "metadata": {
            "tags": []
          },
          "execution_count": 26
        }
      ]
    },
    {
      "cell_type": "code",
      "metadata": {
        "colab": {
          "base_uri": "https://localhost:8080/",
          "height": 204
        },
        "id": "9LjpYGkprEUH",
        "outputId": "70f76ca8-1ac5-430e-ca8c-0b82f3986f16"
      },
      "source": [
        "df.tail()"
      ],
      "execution_count": null,
      "outputs": [
        {
          "output_type": "execute_result",
          "data": {
            "text/html": [
              "<div>\n",
              "<style scoped>\n",
              "    .dataframe tbody tr th:only-of-type {\n",
              "        vertical-align: middle;\n",
              "    }\n",
              "\n",
              "    .dataframe tbody tr th {\n",
              "        vertical-align: top;\n",
              "    }\n",
              "\n",
              "    .dataframe thead th {\n",
              "        text-align: right;\n",
              "    }\n",
              "</style>\n",
              "<table border=\"1\" class=\"dataframe\">\n",
              "  <thead>\n",
              "    <tr style=\"text-align: right;\">\n",
              "      <th></th>\n",
              "      <th>timestamp</th>\n",
              "      <th>open</th>\n",
              "      <th>low</th>\n",
              "      <th>high</th>\n",
              "      <th>volume</th>\n",
              "      <th>close</th>\n",
              "    </tr>\n",
              "  </thead>\n",
              "  <tbody>\n",
              "    <tr>\n",
              "      <th>9839</th>\n",
              "      <td>2021-02-19 12:30:00</td>\n",
              "      <td>55.3000</td>\n",
              "      <td>55.01</td>\n",
              "      <td>55.33</td>\n",
              "      <td>45345.0</td>\n",
              "      <td>55.22</td>\n",
              "    </tr>\n",
              "    <tr>\n",
              "      <th>9840</th>\n",
              "      <td>2021-02-19 12:45:00</td>\n",
              "      <td>55.2200</td>\n",
              "      <td>55.15</td>\n",
              "      <td>55.25</td>\n",
              "      <td>22711.0</td>\n",
              "      <td>55.20</td>\n",
              "    </tr>\n",
              "    <tr>\n",
              "      <th>9841</th>\n",
              "      <td>2021-02-19 13:00:00</td>\n",
              "      <td>54.8000</td>\n",
              "      <td>54.75</td>\n",
              "      <td>55.73</td>\n",
              "      <td>270333.0</td>\n",
              "      <td>55.51</td>\n",
              "    </tr>\n",
              "    <tr>\n",
              "      <th>9842</th>\n",
              "      <td>2021-02-19 13:15:00</td>\n",
              "      <td>55.5500</td>\n",
              "      <td>55.50</td>\n",
              "      <td>55.75</td>\n",
              "      <td>94152.0</td>\n",
              "      <td>55.73</td>\n",
              "    </tr>\n",
              "    <tr>\n",
              "      <th>9843</th>\n",
              "      <td>2021-02-19 13:30:00</td>\n",
              "      <td>55.7011</td>\n",
              "      <td>55.64</td>\n",
              "      <td>55.90</td>\n",
              "      <td>107981.0</td>\n",
              "      <td>55.74</td>\n",
              "    </tr>\n",
              "  </tbody>\n",
              "</table>\n",
              "</div>"
            ],
            "text/plain": [
              "               timestamp     open    low   high    volume  close\n",
              "9839 2021-02-19 12:30:00  55.3000  55.01  55.33   45345.0  55.22\n",
              "9840 2021-02-19 12:45:00  55.2200  55.15  55.25   22711.0  55.20\n",
              "9841 2021-02-19 13:00:00  54.8000  54.75  55.73  270333.0  55.51\n",
              "9842 2021-02-19 13:15:00  55.5500  55.50  55.75   94152.0  55.73\n",
              "9843 2021-02-19 13:30:00  55.7011  55.64  55.90  107981.0  55.74"
            ]
          },
          "metadata": {
            "tags": []
          },
          "execution_count": 27
        }
      ]
    },
    {
      "cell_type": "code",
      "metadata": {
        "colab": {
          "base_uri": "https://localhost:8080/"
        },
        "id": "X7x0GcjX1Moq",
        "outputId": "f9cccd0b-d08b-4068-9976-4190067c8afb"
      },
      "source": [
        "polarity = get_polarity('NIO stock is set to go up atleast 10% today')\n",
        "print(polarity)"
      ],
      "execution_count": null,
      "outputs": [
        {
          "output_type": "stream",
          "text": [
            "0.9908347422208095\n"
          ],
          "name": "stdout"
        }
      ]
    },
    {
      "cell_type": "code",
      "metadata": {
        "colab": {
          "base_uri": "https://localhost:8080/"
        },
        "id": "YnI9aCltdknA",
        "outputId": "40bae9dd-5af1-4f70-8335-46823755c97e"
      },
      "source": [
        "polarity = get_polarity(\"NIO CEO resigns\")\n",
        "print(polarity)"
      ],
      "execution_count": null,
      "outputs": [
        {
          "output_type": "stream",
          "text": [
            "0.18248186945455386\n"
          ],
          "name": "stdout"
        }
      ]
    },
    {
      "cell_type": "code",
      "metadata": {
        "colab": {
          "base_uri": "https://localhost:8080/",
          "height": 419
        },
        "id": "-yBacm_XTf0K",
        "outputId": "e2849cab-b995-4384-98aa-b65889db6b81"
      },
      "source": [
        "polarity_df = combine_news_data(news_df, df)\n",
        "polarity_df"
      ],
      "execution_count": null,
      "outputs": [
        {
          "output_type": "execute_result",
          "data": {
            "text/html": [
              "<div>\n",
              "<style scoped>\n",
              "    .dataframe tbody tr th:only-of-type {\n",
              "        vertical-align: middle;\n",
              "    }\n",
              "\n",
              "    .dataframe tbody tr th {\n",
              "        vertical-align: top;\n",
              "    }\n",
              "\n",
              "    .dataframe thead th {\n",
              "        text-align: right;\n",
              "    }\n",
              "</style>\n",
              "<table border=\"1\" class=\"dataframe\">\n",
              "  <thead>\n",
              "    <tr style=\"text-align: right;\">\n",
              "      <th></th>\n",
              "      <th>polarity</th>\n",
              "    </tr>\n",
              "  </thead>\n",
              "  <tbody>\n",
              "    <tr>\n",
              "      <th>0</th>\n",
              "      <td>0.386149</td>\n",
              "    </tr>\n",
              "    <tr>\n",
              "      <th>1</th>\n",
              "      <td>0.386149</td>\n",
              "    </tr>\n",
              "    <tr>\n",
              "      <th>2</th>\n",
              "      <td>0.386149</td>\n",
              "    </tr>\n",
              "    <tr>\n",
              "      <th>3</th>\n",
              "      <td>0.386149</td>\n",
              "    </tr>\n",
              "    <tr>\n",
              "      <th>4</th>\n",
              "      <td>0.386149</td>\n",
              "    </tr>\n",
              "    <tr>\n",
              "      <th>...</th>\n",
              "      <td>...</td>\n",
              "    </tr>\n",
              "    <tr>\n",
              "      <th>9839</th>\n",
              "      <td>0.891852</td>\n",
              "    </tr>\n",
              "    <tr>\n",
              "      <th>9840</th>\n",
              "      <td>0.891852</td>\n",
              "    </tr>\n",
              "    <tr>\n",
              "      <th>9841</th>\n",
              "      <td>0.891852</td>\n",
              "    </tr>\n",
              "    <tr>\n",
              "      <th>9842</th>\n",
              "      <td>0.891852</td>\n",
              "    </tr>\n",
              "    <tr>\n",
              "      <th>9843</th>\n",
              "      <td>0.891852</td>\n",
              "    </tr>\n",
              "  </tbody>\n",
              "</table>\n",
              "<p>9844 rows × 1 columns</p>\n",
              "</div>"
            ],
            "text/plain": [
              "      polarity\n",
              "0     0.386149\n",
              "1     0.386149\n",
              "2     0.386149\n",
              "3     0.386149\n",
              "4     0.386149\n",
              "...        ...\n",
              "9839  0.891852\n",
              "9840  0.891852\n",
              "9841  0.891852\n",
              "9842  0.891852\n",
              "9843  0.891852\n",
              "\n",
              "[9844 rows x 1 columns]"
            ]
          },
          "metadata": {
            "tags": []
          },
          "execution_count": 30
        }
      ]
    },
    {
      "cell_type": "code",
      "metadata": {
        "colab": {
          "base_uri": "https://localhost:8080/"
        },
        "id": "0yNjMLMv0Mk5",
        "outputId": "a73473b0-b0f3-44a0-d468-f4ee89942c97"
      },
      "source": [
        "plt.figure(figsize=(15, 5))\n",
        "plt.plot(polarity_df['polarity'], c='r', label='Real' + ' ' + ticker + ' ' + 'Stock Price')\n",
        "plt.show()"
      ],
      "execution_count": null,
      "outputs": [
        {
          "output_type": "display_data",
          "data": {
            "image/png": "[encoded data removed]",
            "text/plain": [
              "<Figure size 1080x360 with 1 Axes>"
            ]
          },
          "metadata": {
            "tags": [],
            "needs_background": "light"
          }
        }
      ]
    },
    {
      "cell_type": "code",
      "metadata": {
        "colab": {
          "base_uri": "https://localhost:8080/",
          "height": 320
        },
        "id": "UOBY3wHP0dfE",
        "outputId": "c0c1598a-34ee-47d5-e0f6-6919a97c31a1"
      },
      "source": [
        "plt.figure(figsize=(15, 5))\n",
        "plt.plot(df['open'], c='blue', label='Real' + ' ' + ticker + ' ' + 'Stock Price')\n",
        "plt.show()"
      ],
      "execution_count": null,
      "outputs": [
        {
          "output_type": "display_data",
          "data": {
            "image/png": "[encoded data removed]",
            "text/plain": [
              "<Figure size 1080x360 with 1 Axes>"
            ]
          },
          "metadata": {
            "tags": [],
            "needs_background": "light"
          }
        }
      ]
    },
    {
      "cell_type": "code",
      "metadata": {
        "colab": {
          "base_uri": "https://localhost:8080/",
          "height": 419
        },
        "id": "lUDv2LMNVZm7",
        "outputId": "d35c31af-9007-4465-8b03-5e7806f6e24c"
      },
      "source": [
        "df = pd.concat([df, polarity_df], axis=1).reindex(df.index)\n",
        "df"
      ],
      "execution_count": null,
      "outputs": [
        {
          "output_type": "execute_result",
          "data": {
            "text/html": [
              "<div>\n",
              "<style scoped>\n",
              "    .dataframe tbody tr th:only-of-type {\n",
              "        vertical-align: middle;\n",
              "    }\n",
              "\n",
              "    .dataframe tbody tr th {\n",
              "        vertical-align: top;\n",
              "    }\n",
              "\n",
              "    .dataframe thead th {\n",
              "        text-align: right;\n",
              "    }\n",
              "</style>\n",
              "<table border=\"1\" class=\"dataframe\">\n",
              "  <thead>\n",
              "    <tr style=\"text-align: right;\">\n",
              "      <th></th>\n",
              "      <th>timestamp</th>\n",
              "      <th>open</th>\n",
              "      <th>low</th>\n",
              "      <th>high</th>\n",
              "      <th>volume</th>\n",
              "      <th>close</th>\n",
              "      <th>polarity</th>\n",
              "    </tr>\n",
              "  </thead>\n",
              "  <tbody>\n",
              "    <tr>\n",
              "      <th>0</th>\n",
              "      <td>2020-07-29 08:00:00</td>\n",
              "      <td>12.4000</td>\n",
              "      <td>12.27</td>\n",
              "      <td>12.62</td>\n",
              "      <td>73778.0</td>\n",
              "      <td>12.57</td>\n",
              "      <td>0.386149</td>\n",
              "    </tr>\n",
              "    <tr>\n",
              "      <th>1</th>\n",
              "      <td>2020-07-29 08:15:00</td>\n",
              "      <td>12.5700</td>\n",
              "      <td>12.50</td>\n",
              "      <td>12.61</td>\n",
              "      <td>57808.0</td>\n",
              "      <td>12.59</td>\n",
              "      <td>0.386149</td>\n",
              "    </tr>\n",
              "    <tr>\n",
              "      <th>2</th>\n",
              "      <td>2020-07-29 08:30:00</td>\n",
              "      <td>12.5800</td>\n",
              "      <td>12.57</td>\n",
              "      <td>12.60</td>\n",
              "      <td>16746.0</td>\n",
              "      <td>12.57</td>\n",
              "      <td>0.386149</td>\n",
              "    </tr>\n",
              "    <tr>\n",
              "      <th>3</th>\n",
              "      <td>2020-07-29 08:45:00</td>\n",
              "      <td>12.5700</td>\n",
              "      <td>12.54</td>\n",
              "      <td>12.61</td>\n",
              "      <td>27065.0</td>\n",
              "      <td>12.60</td>\n",
              "      <td>0.386149</td>\n",
              "    </tr>\n",
              "    <tr>\n",
              "      <th>4</th>\n",
              "      <td>2020-07-29 09:00:00</td>\n",
              "      <td>12.5900</td>\n",
              "      <td>12.53</td>\n",
              "      <td>12.59</td>\n",
              "      <td>35497.0</td>\n",
              "      <td>12.54</td>\n",
              "      <td>0.386149</td>\n",
              "    </tr>\n",
              "    <tr>\n",
              "      <th>...</th>\n",
              "      <td>...</td>\n",
              "      <td>...</td>\n",
              "      <td>...</td>\n",
              "      <td>...</td>\n",
              "      <td>...</td>\n",
              "      <td>...</td>\n",
              "      <td>...</td>\n",
              "    </tr>\n",
              "    <tr>\n",
              "      <th>9839</th>\n",
              "      <td>2021-02-19 12:30:00</td>\n",
              "      <td>55.3000</td>\n",
              "      <td>55.01</td>\n",
              "      <td>55.33</td>\n",
              "      <td>45345.0</td>\n",
              "      <td>55.22</td>\n",
              "      <td>0.891852</td>\n",
              "    </tr>\n",
              "    <tr>\n",
              "      <th>9840</th>\n",
              "      <td>2021-02-19 12:45:00</td>\n",
              "      <td>55.2200</td>\n",
              "      <td>55.15</td>\n",
              "      <td>55.25</td>\n",
              "      <td>22711.0</td>\n",
              "      <td>55.20</td>\n",
              "      <td>0.891852</td>\n",
              "    </tr>\n",
              "    <tr>\n",
              "      <th>9841</th>\n",
              "      <td>2021-02-19 13:00:00</td>\n",
              "      <td>54.8000</td>\n",
              "      <td>54.75</td>\n",
              "      <td>55.73</td>\n",
              "      <td>270333.0</td>\n",
              "      <td>55.51</td>\n",
              "      <td>0.891852</td>\n",
              "    </tr>\n",
              "    <tr>\n",
              "      <th>9842</th>\n",
              "      <td>2021-02-19 13:15:00</td>\n",
              "      <td>55.5500</td>\n",
              "      <td>55.50</td>\n",
              "      <td>55.75</td>\n",
              "      <td>94152.0</td>\n",
              "      <td>55.73</td>\n",
              "      <td>0.891852</td>\n",
              "    </tr>\n",
              "    <tr>\n",
              "      <th>9843</th>\n",
              "      <td>2021-02-19 13:30:00</td>\n",
              "      <td>55.7011</td>\n",
              "      <td>55.64</td>\n",
              "      <td>55.90</td>\n",
              "      <td>107981.0</td>\n",
              "      <td>55.74</td>\n",
              "      <td>0.891852</td>\n",
              "    </tr>\n",
              "  </tbody>\n",
              "</table>\n",
              "<p>9844 rows × 7 columns</p>\n",
              "</div>"
            ],
            "text/plain": [
              "               timestamp     open    low   high    volume  close  polarity\n",
              "0    2020-07-29 08:00:00  12.4000  12.27  12.62   73778.0  12.57  0.386149\n",
              "1    2020-07-29 08:15:00  12.5700  12.50  12.61   57808.0  12.59  0.386149\n",
              "2    2020-07-29 08:30:00  12.5800  12.57  12.60   16746.0  12.57  0.386149\n",
              "3    2020-07-29 08:45:00  12.5700  12.54  12.61   27065.0  12.60  0.386149\n",
              "4    2020-07-29 09:00:00  12.5900  12.53  12.59   35497.0  12.54  0.386149\n",
              "...                  ...      ...    ...    ...       ...    ...       ...\n",
              "9839 2021-02-19 12:30:00  55.3000  55.01  55.33   45345.0  55.22  0.891852\n",
              "9840 2021-02-19 12:45:00  55.2200  55.15  55.25   22711.0  55.20  0.891852\n",
              "9841 2021-02-19 13:00:00  54.8000  54.75  55.73  270333.0  55.51  0.891852\n",
              "9842 2021-02-19 13:15:00  55.5500  55.50  55.75   94152.0  55.73  0.891852\n",
              "9843 2021-02-19 13:30:00  55.7011  55.64  55.90  107981.0  55.74  0.891852\n",
              "\n",
              "[9844 rows x 7 columns]"
            ]
          },
          "metadata": {
            "tags": []
          },
          "execution_count": 33
        }
      ]
    },
    {
      "cell_type": "code",
      "metadata": {
        "colab": {
          "base_uri": "https://localhost:8080/"
        },
        "id": "HZfsrvqorE7H",
        "outputId": "469cd176-4b1e-4e32-98cc-6f74685e7b1d"
      },
      "source": [
        "x_train, y_train,xv,yv,x_test,y_test, scaler = preprocess_training_data(df)\n",
        "print(x_train.shape)\n",
        "print(y_train.shape)\n",
        "print(xv.shape)\n",
        "print(yv.shape)\n",
        "print(x_test.shape)\n",
        "print(y_test.shape)"
      ],
      "execution_count": null,
      "outputs": [
        {
          "output_type": "stream",
          "text": [
            "(9638, 6, 6)\n",
            "(9638,)\n",
            "(100, 6, 6)\n",
            "(100,)\n",
            "(100, 6, 6)\n",
            "(100,)\n"
          ],
          "name": "stdout"
        }
      ]
    },
    {
      "cell_type": "code",
      "metadata": {
        "id": "dvHGj3t6rIPH"
      },
      "source": [
        "save_scaler(ticker)"
      ],
      "execution_count": null,
      "outputs": []
    },
    {
      "cell_type": "code",
      "metadata": {
        "colab": {
          "base_uri": "https://localhost:8080/"
        },
        "id": "8i3cBI1_rmq0",
        "outputId": "85feca97-f92d-4e22-efa1-6c1aa38e89c7"
      },
      "source": [
        "model = create_rnn(ticker, x_train, y_train, xv, yv)\n",
        "train_model(model, x_train, y_train, xv, yv)"
      ],
      "execution_count": null,
      "outputs": [
        {
          "output_type": "stream",
          "text": [
            "Epoch 1/100\n",
            "252/252 [==============================] - 10s 22ms/step - loss: 0.0607 - val_loss: 0.0035\n",
            "Epoch 2/100\n",
            "252/252 [==============================] - 4s 16ms/step - loss: 0.0062 - val_loss: 0.0038\n",
            "Epoch 3/100\n",
            "252/252 [==============================] - 4s 16ms/step - loss: 0.0043 - val_loss: 0.0023\n",
            "Epoch 4/100\n",
            "252/252 [==============================] - 4s 18ms/step - loss: 0.0032 - val_loss: 0.0012\n",
            "Epoch 5/100\n",
            "252/252 [==============================] - 5s 18ms/step - loss: 0.0023 - val_loss: 3.4852e-04\n",
            "Epoch 6/100\n",
            "252/252 [==============================] - 4s 18ms/step - loss: 0.0022 - val_loss: 6.9693e-04\n",
            "Epoch 7/100\n",
            "252/252 [==============================] - 4s 18ms/step - loss: 0.0016 - val_loss: 8.7626e-04\n",
            "Epoch 8/100\n",
            "252/252 [==============================] - 4s 17ms/step - loss: 0.0014 - val_loss: 0.0019\n",
            "Epoch 9/100\n",
            "252/252 [==============================] - 4s 17ms/step - loss: 0.0014 - val_loss: 6.9789e-04\n",
            "Epoch 10/100\n",
            "252/252 [==============================] - 4s 17ms/step - loss: 0.0011 - val_loss: 9.0670e-04\n",
            "Epoch 00010: early stopping\n"
          ],
          "name": "stdout"
        }
      ]
    },
    {
      "cell_type": "code",
      "metadata": {
        "colab": {
          "base_uri": "https://localhost:8080/",
          "height": 334
        },
        "id": "X9XKD56GrujQ",
        "outputId": "c2b8ab18-2f6f-424a-d09d-2a6f9a7d144e"
      },
      "source": [
        "predictions = model.predict(x_train) * 1/scaler[0]\n",
        "answers = y_train * 1/scaler[0]\n",
        "visualize_model(predictions, answers, ticker)"
      ],
      "execution_count": null,
      "outputs": [
        {
          "output_type": "display_data",
          "data": {
            "image/png": "[encoded data removed]",
            "text/plain": [
              "<Figure size 1080x360 with 1 Axes>"
            ]
          },
          "metadata": {
            "tags": [],
            "needs_background": "light"
          }
        }
      ]
    },
    {
      "cell_type": "code",
      "metadata": {
        "colab": {
          "base_uri": "https://localhost:8080/"
        },
        "id": "FAkF_SgjcxPr",
        "outputId": "afe77c1e-c2a6-4125-9240-943fa84eacce"
      },
      "source": [
        "model.save('Models/' + ticker + time_horizon)"
      ],
      "execution_count": null,
      "outputs": [
        {
          "output_type": "stream",
          "text": [
            "INFO:tensorflow:Assets written to: Models/NIOminute/assets\n"
          ],
          "name": "stdout"
        }
      ]
    },
    {
      "cell_type": "code",
      "metadata": {
        "colab": {
          "base_uri": "https://localhost:8080/",
          "height": 337
        },
        "id": "HbKx6HVFsEOS",
        "outputId": "1dfba4fb-8c4f-4ee5-c875-51772c5b91dc"
      },
      "source": [
        "test_predictions = model.predict(xv) * 1/scaler[0]\n",
        "test_answers = yv * 1/scaler[0]\n",
        "visualize_model(test_predictions, test_answers, ticker)"
      ],
      "execution_count": null,
      "outputs": [
        {
          "output_type": "display_data",
          "data": {
            "image/png": "[encoded data removed]",
            "text/plain": [
              "<Figure size 1080x360 with 1 Axes>"
            ]
          },
          "metadata": {
            "tags": [],
            "needs_background": "light"
          }
        }
      ]
    },
    {
      "cell_type": "code",
      "metadata": {
        "id": "yCw1XLCasJ-1"
      },
      "source": [
        "average = get_average(predictions, answers)\n",
        "for i in test_predictions:\n",
        "    i[0] += average"
      ],
      "execution_count": null,
      "outputs": []
    },
    {
      "cell_type": "code",
      "metadata": {
        "colab": {
          "base_uri": "https://localhost:8080/"
        },
        "id": "qp848e8sOm73",
        "outputId": "a2440abe-ee8e-4541-facc-1499b06ce857"
      },
      "source": [
        "average"
      ],
      "execution_count": null,
      "outputs": [
        {
          "output_type": "execute_result",
          "data": {
            "text/plain": [
              "1.5636914126281771"
            ]
          },
          "metadata": {
            "tags": []
          },
          "execution_count": 43
        }
      ]
    },
    {
      "cell_type": "code",
      "metadata": {
        "colab": {
          "base_uri": "https://localhost:8080/",
          "height": 334
        },
        "id": "fT91DX9bsPfv",
        "outputId": "f01c0df2-de06-4694-dfe9-817af1366305"
      },
      "source": [
        "visualize_model(test_predictions, test_answers, ticker)"
      ],
      "execution_count": null,
      "outputs": [
        {
          "output_type": "display_data",
          "data": {
            "image/png": "[encoded data removed]",
            "text/plain": [
              "<Figure size 1080x360 with 1 Axes>"
            ]
          },
          "metadata": {
            "tags": [],
            "needs_background": "light"
          }
        }
      ]
    },
    {
      "cell_type": "code",
      "metadata": {
        "id": "zHU1hWLCsYb3"
      },
      "source": [
        "test_predictions2 = model.predict(x_test) * 1/scaler[0]\n",
        "test_answers2 = y_test * 1/scaler[0]\n",
        "for i in test_predictions2:\n",
        "    i[0] += average"
      ],
      "execution_count": null,
      "outputs": []
    },
    {
      "cell_type": "code",
      "metadata": {
        "colab": {
          "base_uri": "https://localhost:8080/",
          "height": 334
        },
        "id": "xaA2uDLwss6z",
        "outputId": "de94be46-aed2-43ac-e48d-c1b075cb36eb"
      },
      "source": [
        "visualize_model(test_predictions2, test_answers2, ticker)"
      ],
      "execution_count": null,
      "outputs": [
        {
          "output_type": "display_data",
          "data": {
            "image/png": "[encoded data removed]",
            "text/plain": [
              "<Figure size 1080x360 with 1 Axes>"
            ]
          },
          "metadata": {
            "tags": [],
            "needs_background": "light"
          }
        }
      ]
    },
    {
      "cell_type": "code",
      "metadata": {
        "colab": {
          "base_uri": "https://localhost:8080/"
        },
        "id": "lQYUHRKvstWM",
        "outputId": "acc81a7a-53b0-49ca-ec65-6312a15a91c0"
      },
      "source": [
        "trainScore = model.evaluate(x_train, y_train, verbose=0)\n",
        "testScore = model.evaluate(x_test, y_test, verbose=0)\n",
        "print(trainScore)\n",
        "print(testScore)"
      ],
      "execution_count": null,
      "outputs": [
        {
          "output_type": "stream",
          "text": [
            "0.0012235100148245692\n",
            "0.0010316718835383654\n"
          ],
          "name": "stdout"
        }
      ]
    },
    {
      "cell_type": "code",
      "metadata": {
        "colab": {
          "base_uri": "https://localhost:8080/",
          "height": 204
        },
        "id": "KYl29rvZsxqP",
        "outputId": "ff7d0995-05dc-4cc8-9a80-f619fe283197"
      },
      "source": [
        "get_recent_data(ticker, api_key, multiplier, time_horizon)\n",
        "recent_df, entry_price = update_recent_data(ticker, api_key, multiplier, time_horizon)\n",
        "recent_df['timestamp'] = recent_df['timestamp'].apply(lambda x:datetime.fromtimestamp(x/1000))\n",
        "recent_df.tail()"
      ],
      "execution_count": null,
      "outputs": [
        {
          "output_type": "execute_result",
          "data": {
            "text/html": [
              "<div>\n",
              "<style scoped>\n",
              "    .dataframe tbody tr th:only-of-type {\n",
              "        vertical-align: middle;\n",
              "    }\n",
              "\n",
              "    .dataframe tbody tr th {\n",
              "        vertical-align: top;\n",
              "    }\n",
              "\n",
              "    .dataframe thead th {\n",
              "        text-align: right;\n",
              "    }\n",
              "</style>\n",
              "<table border=\"1\" class=\"dataframe\">\n",
              "  <thead>\n",
              "    <tr style=\"text-align: right;\">\n",
              "      <th></th>\n",
              "      <th>timestamp</th>\n",
              "      <th>open</th>\n",
              "      <th>low</th>\n",
              "      <th>high</th>\n",
              "      <th>volume</th>\n",
              "      <th>close</th>\n",
              "    </tr>\n",
              "  </thead>\n",
              "  <tbody>\n",
              "    <tr>\n",
              "      <th>187</th>\n",
              "      <td>2021-02-23 23:45:00</td>\n",
              "      <td>49.85</td>\n",
              "      <td>49.85</td>\n",
              "      <td>49.99</td>\n",
              "      <td>28207.0</td>\n",
              "      <td>49.99</td>\n",
              "    </tr>\n",
              "    <tr>\n",
              "      <th>188</th>\n",
              "      <td>2021-02-24 00:00:00</td>\n",
              "      <td>49.99</td>\n",
              "      <td>49.93</td>\n",
              "      <td>50.00</td>\n",
              "      <td>45141.0</td>\n",
              "      <td>49.95</td>\n",
              "    </tr>\n",
              "    <tr>\n",
              "      <th>189</th>\n",
              "      <td>2021-02-24 00:15:00</td>\n",
              "      <td>49.95</td>\n",
              "      <td>49.95</td>\n",
              "      <td>50.00</td>\n",
              "      <td>50086.0</td>\n",
              "      <td>50.00</td>\n",
              "    </tr>\n",
              "    <tr>\n",
              "      <th>190</th>\n",
              "      <td>2021-02-24 00:30:00</td>\n",
              "      <td>50.00</td>\n",
              "      <td>49.95</td>\n",
              "      <td>50.00</td>\n",
              "      <td>48166.0</td>\n",
              "      <td>49.98</td>\n",
              "    </tr>\n",
              "    <tr>\n",
              "      <th>191</th>\n",
              "      <td>2021-02-24 00:45:00</td>\n",
              "      <td>49.98</td>\n",
              "      <td>49.95</td>\n",
              "      <td>49.99</td>\n",
              "      <td>65449.0</td>\n",
              "      <td>49.99</td>\n",
              "    </tr>\n",
              "  </tbody>\n",
              "</table>\n",
              "</div>"
            ],
            "text/plain": [
              "              timestamp   open    low   high   volume  close\n",
              "187 2021-02-23 23:45:00  49.85  49.85  49.99  28207.0  49.99\n",
              "188 2021-02-24 00:00:00  49.99  49.93  50.00  45141.0  49.95\n",
              "189 2021-02-24 00:15:00  49.95  49.95  50.00  50086.0  50.00\n",
              "190 2021-02-24 00:30:00  50.00  49.95  50.00  48166.0  49.98\n",
              "191 2021-02-24 00:45:00  49.98  49.95  49.99  65449.0  49.99"
            ]
          },
          "metadata": {
            "tags": []
          },
          "execution_count": 56
        }
      ]
    },
    {
      "cell_type": "code",
      "metadata": {
        "colab": {
          "base_uri": "https://localhost:8080/",
          "height": 204
        },
        "id": "kChSkZXhs4kg",
        "outputId": "71e61ce5-a95e-4bf7-e13e-299a41c3832a"
      },
      "source": [
        "recent_df.head()"
      ],
      "execution_count": null,
      "outputs": [
        {
          "output_type": "execute_result",
          "data": {
            "text/html": [
              "<div>\n",
              "<style scoped>\n",
              "    .dataframe tbody tr th:only-of-type {\n",
              "        vertical-align: middle;\n",
              "    }\n",
              "\n",
              "    .dataframe tbody tr th {\n",
              "        vertical-align: top;\n",
              "    }\n",
              "\n",
              "    .dataframe thead th {\n",
              "        text-align: right;\n",
              "    }\n",
              "</style>\n",
              "<table border=\"1\" class=\"dataframe\">\n",
              "  <thead>\n",
              "    <tr style=\"text-align: right;\">\n",
              "      <th></th>\n",
              "      <th>timestamp</th>\n",
              "      <th>open</th>\n",
              "      <th>low</th>\n",
              "      <th>high</th>\n",
              "      <th>volume</th>\n",
              "      <th>close</th>\n",
              "    </tr>\n",
              "  </thead>\n",
              "  <tbody>\n",
              "    <tr>\n",
              "      <th>0</th>\n",
              "      <td>2021-02-19 09:00:00</td>\n",
              "      <td>53.47</td>\n",
              "      <td>53.20</td>\n",
              "      <td>54.09</td>\n",
              "      <td>60885.0</td>\n",
              "      <td>54.09</td>\n",
              "    </tr>\n",
              "    <tr>\n",
              "      <th>1</th>\n",
              "      <td>2021-02-19 09:15:00</td>\n",
              "      <td>54.20</td>\n",
              "      <td>54.20</td>\n",
              "      <td>55.10</td>\n",
              "      <td>52715.0</td>\n",
              "      <td>54.91</td>\n",
              "    </tr>\n",
              "    <tr>\n",
              "      <th>2</th>\n",
              "      <td>2021-02-19 09:30:00</td>\n",
              "      <td>54.91</td>\n",
              "      <td>54.72</td>\n",
              "      <td>55.01</td>\n",
              "      <td>24711.0</td>\n",
              "      <td>55.01</td>\n",
              "    </tr>\n",
              "    <tr>\n",
              "      <th>3</th>\n",
              "      <td>2021-02-19 09:45:00</td>\n",
              "      <td>55.05</td>\n",
              "      <td>55.05</td>\n",
              "      <td>55.32</td>\n",
              "      <td>14606.0</td>\n",
              "      <td>55.29</td>\n",
              "    </tr>\n",
              "    <tr>\n",
              "      <th>4</th>\n",
              "      <td>2021-02-19 10:00:00</td>\n",
              "      <td>55.25</td>\n",
              "      <td>55.15</td>\n",
              "      <td>55.25</td>\n",
              "      <td>5473.0</td>\n",
              "      <td>55.24</td>\n",
              "    </tr>\n",
              "  </tbody>\n",
              "</table>\n",
              "</div>"
            ],
            "text/plain": [
              "            timestamp   open    low   high   volume  close\n",
              "0 2021-02-19 09:00:00  53.47  53.20  54.09  60885.0  54.09\n",
              "1 2021-02-19 09:15:00  54.20  54.20  55.10  52715.0  54.91\n",
              "2 2021-02-19 09:30:00  54.91  54.72  55.01  24711.0  55.01\n",
              "3 2021-02-19 09:45:00  55.05  55.05  55.32  14606.0  55.29\n",
              "4 2021-02-19 10:00:00  55.25  55.15  55.25   5473.0  55.24"
            ]
          },
          "metadata": {
            "tags": []
          },
          "execution_count": 57
        }
      ]
    },
    {
      "cell_type": "code",
      "metadata": {
        "id": "L3iouuIqKLfH"
      },
      "source": [
        "entry_price = recent_df.iloc[-1]['open']\n",
        "entry_price"
      ],
      "execution_count": null,
      "outputs": []
    },
    {
      "cell_type": "code",
      "metadata": {
        "id": "9-Lt9vBwWsyy",
        "colab": {
          "base_uri": "https://localhost:8080/",
          "height": 421
        },
        "outputId": "a13077ae-ce49-426b-e6d3-49daaa18faff"
      },
      "source": [
        "news_df = get_recent_news(ticker)\n",
        "news_df"
      ],
      "execution_count": null,
      "outputs": [
        {
          "output_type": "execute_result",
          "data": {
            "text/html": [
              "<div>\n",
              "<style scoped>\n",
              "    .dataframe tbody tr th:only-of-type {\n",
              "        vertical-align: middle;\n",
              "    }\n",
              "\n",
              "    .dataframe tbody tr th {\n",
              "        vertical-align: top;\n",
              "    }\n",
              "\n",
              "    .dataframe thead th {\n",
              "        text-align: right;\n",
              "    }\n",
              "</style>\n",
              "<table border=\"1\" class=\"dataframe\">\n",
              "  <thead>\n",
              "    <tr style=\"text-align: right;\">\n",
              "      <th></th>\n",
              "      <th>datetime</th>\n",
              "      <th>headline</th>\n",
              "      <th>summary</th>\n",
              "    </tr>\n",
              "  </thead>\n",
              "  <tbody>\n",
              "    <tr>\n",
              "      <th>0</th>\n",
              "      <td>2021-02-19 10:01:33</td>\n",
              "      <td>Why NIO Stock's 12-Month Parabolic Rise May No...</td>\n",
              "      <td>NIO stock has enticed investors with great lev...</td>\n",
              "    </tr>\n",
              "    <tr>\n",
              "      <th>1</th>\n",
              "      <td>2021-02-19 10:08:00</td>\n",
              "      <td>NIO Stock Is Slumping. There’s Probably Nothin...</td>\n",
              "      <td>American depositary receipts of NIO are down d...</td>\n",
              "    </tr>\n",
              "    <tr>\n",
              "      <th>2</th>\n",
              "      <td>2021-02-19 16:49:00</td>\n",
              "      <td>NIO Inc. ADR rises Friday, outperforms market</td>\n",
              "      <td>The NIO Inc. ADR advanced 1.12% to $55.04 Frid...</td>\n",
              "    </tr>\n",
              "    <tr>\n",
              "      <th>3</th>\n",
              "      <td>2021-02-21 11:15:00</td>\n",
              "      <td>Xiaomi Follows Baidu Into EV-Making, Sparks Fly</td>\n",
              "      <td>Chinese markets were closed for the LNY break,...</td>\n",
              "    </tr>\n",
              "    <tr>\n",
              "      <th>4</th>\n",
              "      <td>2021-02-21 12:01:00</td>\n",
              "      <td>A Giant Fund Bought EV Stocks NIO and Tesla, a...</td>\n",
              "      <td>Shares of both electric-vehicle makers soared ...</td>\n",
              "    </tr>\n",
              "    <tr>\n",
              "      <th>5</th>\n",
              "      <td>2021-02-22 08:11:05</td>\n",
              "      <td>ALPS Clean Energy ETF: Disruptors Of A Megatrend</td>\n",
              "      <td>The ETF includes the most promising disruptors...</td>\n",
              "    </tr>\n",
              "    <tr>\n",
              "      <th>6</th>\n",
              "      <td>2021-02-22 12:48:00</td>\n",
              "      <td>China EV Updates: Nio Tests New Power Swap Sta...</td>\n",
              "      <td>Here's the latest news from the growing Chines...</td>\n",
              "    </tr>\n",
              "    <tr>\n",
              "      <th>7</th>\n",
              "      <td>2021-02-22 16:49:00</td>\n",
              "      <td>NIO Inc. ADR falls Monday, underperforms market</td>\n",
              "      <td>The NIO Inc. ADR shed 7.92% to $50.68 Monday, ...</td>\n",
              "    </tr>\n",
              "    <tr>\n",
              "      <th>8</th>\n",
              "      <td>2021-02-22 17:56:00</td>\n",
              "      <td>Tesla Stock Is in a Bear Market. It’s Taking O...</td>\n",
              "      <td>The decline in the stock since its January hig...</td>\n",
              "    </tr>\n",
              "    <tr>\n",
              "      <th>9</th>\n",
              "      <td>2021-02-22 21:03:38</td>\n",
              "      <td>Tesla: The Price Of Success And Higher Expecta...</td>\n",
              "      <td>Tesla achieved GAAP profitability for 5 straig...</td>\n",
              "    </tr>\n",
              "    <tr>\n",
              "      <th>10</th>\n",
              "      <td>2021-02-23 00:00:00</td>\n",
              "      <td>EV Stock Slide: Why Nio, Xpeng, Li Auto Shares...</td>\n",
              "      <td>The U.S.-listed ADSs of Chinese EV manufacture...</td>\n",
              "    </tr>\n",
              "    <tr>\n",
              "      <th>11</th>\n",
              "      <td>2021-02-23 06:25:00</td>\n",
              "      <td>Lucid Motors Is Going Public. The Merger Partn...</td>\n",
              "      <td>EV start up Lucid Motors has finally agreed to...</td>\n",
              "    </tr>\n",
              "  </tbody>\n",
              "</table>\n",
              "</div>"
            ],
            "text/plain": [
              "              datetime  ...                                            summary\n",
              "0  2021-02-19 10:01:33  ...  NIO stock has enticed investors with great lev...\n",
              "1  2021-02-19 10:08:00  ...  American depositary receipts of NIO are down d...\n",
              "2  2021-02-19 16:49:00  ...  The NIO Inc. ADR advanced 1.12% to $55.04 Frid...\n",
              "3  2021-02-21 11:15:00  ...  Chinese markets were closed for the LNY break,...\n",
              "4  2021-02-21 12:01:00  ...  Shares of both electric-vehicle makers soared ...\n",
              "5  2021-02-22 08:11:05  ...  The ETF includes the most promising disruptors...\n",
              "6  2021-02-22 12:48:00  ...  Here's the latest news from the growing Chines...\n",
              "7  2021-02-22 16:49:00  ...  The NIO Inc. ADR shed 7.92% to $50.68 Monday, ...\n",
              "8  2021-02-22 17:56:00  ...  The decline in the stock since its January hig...\n",
              "9  2021-02-22 21:03:38  ...  Tesla achieved GAAP profitability for 5 straig...\n",
              "10 2021-02-23 00:00:00  ...  The U.S.-listed ADSs of Chinese EV manufacture...\n",
              "11 2021-02-23 06:25:00  ...  EV start up Lucid Motors has finally agreed to...\n",
              "\n",
              "[12 rows x 3 columns]"
            ]
          },
          "metadata": {
            "tags": []
          },
          "execution_count": 58
        }
      ]
    },
    {
      "cell_type": "code",
      "metadata": {
        "id": "7dIf2J8JW_bU",
        "colab": {
          "base_uri": "https://localhost:8080/",
          "height": 419
        },
        "outputId": "b07d9eec-48a1-4f3d-ce0e-1b8966d25962"
      },
      "source": [
        "polarity_df = combine_news_data(news_df, recent_df)\n",
        "polarity_df"
      ],
      "execution_count": null,
      "outputs": [
        {
          "output_type": "execute_result",
          "data": {
            "text/html": [
              "<div>\n",
              "<style scoped>\n",
              "    .dataframe tbody tr th:only-of-type {\n",
              "        vertical-align: middle;\n",
              "    }\n",
              "\n",
              "    .dataframe tbody tr th {\n",
              "        vertical-align: top;\n",
              "    }\n",
              "\n",
              "    .dataframe thead th {\n",
              "        text-align: right;\n",
              "    }\n",
              "</style>\n",
              "<table border=\"1\" class=\"dataframe\">\n",
              "  <thead>\n",
              "    <tr style=\"text-align: right;\">\n",
              "      <th></th>\n",
              "      <th>polarity</th>\n",
              "    </tr>\n",
              "  </thead>\n",
              "  <tbody>\n",
              "    <tr>\n",
              "      <th>0</th>\n",
              "      <td>0.000000</td>\n",
              "    </tr>\n",
              "    <tr>\n",
              "      <th>1</th>\n",
              "      <td>0.000000</td>\n",
              "    </tr>\n",
              "    <tr>\n",
              "      <th>2</th>\n",
              "      <td>0.000000</td>\n",
              "    </tr>\n",
              "    <tr>\n",
              "      <th>3</th>\n",
              "      <td>0.000000</td>\n",
              "    </tr>\n",
              "    <tr>\n",
              "      <th>4</th>\n",
              "      <td>0.000000</td>\n",
              "    </tr>\n",
              "    <tr>\n",
              "      <th>...</th>\n",
              "      <td>...</td>\n",
              "    </tr>\n",
              "    <tr>\n",
              "      <th>123</th>\n",
              "      <td>0.386149</td>\n",
              "    </tr>\n",
              "    <tr>\n",
              "      <th>124</th>\n",
              "      <td>0.000000</td>\n",
              "    </tr>\n",
              "    <tr>\n",
              "      <th>125</th>\n",
              "      <td>0.000000</td>\n",
              "    </tr>\n",
              "    <tr>\n",
              "      <th>126</th>\n",
              "      <td>0.000000</td>\n",
              "    </tr>\n",
              "    <tr>\n",
              "      <th>127</th>\n",
              "      <td>0.000000</td>\n",
              "    </tr>\n",
              "  </tbody>\n",
              "</table>\n",
              "<p>128 rows × 1 columns</p>\n",
              "</div>"
            ],
            "text/plain": [
              "     polarity\n",
              "0    0.000000\n",
              "1    0.000000\n",
              "2    0.000000\n",
              "3    0.000000\n",
              "4    0.000000\n",
              "..        ...\n",
              "123  0.386149\n",
              "124  0.000000\n",
              "125  0.000000\n",
              "126  0.000000\n",
              "127  0.000000\n",
              "\n",
              "[128 rows x 1 columns]"
            ]
          },
          "metadata": {
            "tags": []
          },
          "execution_count": 59
        }
      ]
    },
    {
      "cell_type": "code",
      "metadata": {
        "id": "q8EJx2vklylZ",
        "colab": {
          "base_uri": "https://localhost:8080/",
          "height": 204
        },
        "outputId": "d02cfe45-4e68-4da0-9548-efc73fcf4acb"
      },
      "source": [
        "recent_df = pd.concat([recent_df, polarity_df], axis=1).reindex(recent_df.index)\n",
        "recent_df.head()"
      ],
      "execution_count": null,
      "outputs": [
        {
          "output_type": "execute_result",
          "data": {
            "text/html": [
              "<div>\n",
              "<style scoped>\n",
              "    .dataframe tbody tr th:only-of-type {\n",
              "        vertical-align: middle;\n",
              "    }\n",
              "\n",
              "    .dataframe tbody tr th {\n",
              "        vertical-align: top;\n",
              "    }\n",
              "\n",
              "    .dataframe thead th {\n",
              "        text-align: right;\n",
              "    }\n",
              "</style>\n",
              "<table border=\"1\" class=\"dataframe\">\n",
              "  <thead>\n",
              "    <tr style=\"text-align: right;\">\n",
              "      <th></th>\n",
              "      <th>timestamp</th>\n",
              "      <th>open</th>\n",
              "      <th>low</th>\n",
              "      <th>high</th>\n",
              "      <th>volume</th>\n",
              "      <th>close</th>\n",
              "      <th>polarity</th>\n",
              "    </tr>\n",
              "  </thead>\n",
              "  <tbody>\n",
              "    <tr>\n",
              "      <th>0</th>\n",
              "      <td>2021-02-19 09:00:00</td>\n",
              "      <td>53.47</td>\n",
              "      <td>53.20</td>\n",
              "      <td>54.09</td>\n",
              "      <td>60885.0</td>\n",
              "      <td>54.09</td>\n",
              "      <td>0.0</td>\n",
              "    </tr>\n",
              "    <tr>\n",
              "      <th>1</th>\n",
              "      <td>2021-02-19 09:15:00</td>\n",
              "      <td>54.20</td>\n",
              "      <td>54.20</td>\n",
              "      <td>55.10</td>\n",
              "      <td>52715.0</td>\n",
              "      <td>54.91</td>\n",
              "      <td>0.0</td>\n",
              "    </tr>\n",
              "    <tr>\n",
              "      <th>2</th>\n",
              "      <td>2021-02-19 09:30:00</td>\n",
              "      <td>54.91</td>\n",
              "      <td>54.72</td>\n",
              "      <td>55.01</td>\n",
              "      <td>24711.0</td>\n",
              "      <td>55.01</td>\n",
              "      <td>0.0</td>\n",
              "    </tr>\n",
              "    <tr>\n",
              "      <th>3</th>\n",
              "      <td>2021-02-19 09:45:00</td>\n",
              "      <td>55.05</td>\n",
              "      <td>55.05</td>\n",
              "      <td>55.32</td>\n",
              "      <td>14606.0</td>\n",
              "      <td>55.29</td>\n",
              "      <td>0.0</td>\n",
              "    </tr>\n",
              "    <tr>\n",
              "      <th>4</th>\n",
              "      <td>2021-02-19 10:00:00</td>\n",
              "      <td>55.25</td>\n",
              "      <td>55.15</td>\n",
              "      <td>55.25</td>\n",
              "      <td>5473.0</td>\n",
              "      <td>55.24</td>\n",
              "      <td>0.0</td>\n",
              "    </tr>\n",
              "  </tbody>\n",
              "</table>\n",
              "</div>"
            ],
            "text/plain": [
              "            timestamp   open    low   high   volume  close  polarity\n",
              "0 2021-02-19 09:00:00  53.47  53.20  54.09  60885.0  54.09       0.0\n",
              "1 2021-02-19 09:15:00  54.20  54.20  55.10  52715.0  54.91       0.0\n",
              "2 2021-02-19 09:30:00  54.91  54.72  55.01  24711.0  55.01       0.0\n",
              "3 2021-02-19 09:45:00  55.05  55.05  55.32  14606.0  55.29       0.0\n",
              "4 2021-02-19 10:00:00  55.25  55.15  55.25   5473.0  55.24       0.0"
            ]
          },
          "metadata": {
            "tags": []
          },
          "execution_count": 60
        }
      ]
    },
    {
      "cell_type": "code",
      "metadata": {
        "colab": {
          "base_uri": "https://localhost:8080/"
        },
        "id": "44dewjT5Bd6d",
        "outputId": "624a1842-4a2c-4e89-eb03-29a828b6f10c"
      },
      "source": [
        "df = preprocess_recent_data(recent_df, scaler)\n",
        "print(model.predict(df) * 1/scaler[0])\n",
        "result = get_prediction(model, scaler, df)[0][0] + average\n",
        "result"
      ],
      "execution_count": null,
      "outputs": [
        {
          "output_type": "stream",
          "text": [
            "[[nan]]\n"
          ],
          "name": "stdout"
        },
        {
          "output_type": "execute_result",
          "data": {
            "text/plain": [
              "nan"
            ]
          },
          "metadata": {
            "tags": []
          },
          "execution_count": 63
        }
      ]
    },
    {
      "cell_type": "code",
      "metadata": {
        "id": "6iYQqseIs9cf"
      },
      "source": [
        "predictions2 = model.predict(x_test)\n",
        "for pred in predictions2:\n",
        "    pred[0] += average"
      ],
      "execution_count": null,
      "outputs": []
    },
    {
      "cell_type": "code",
      "metadata": {
        "id": "N11FzAKWtCCB"
      },
      "source": [
        "prob = probablity(predictions2[:-6], y_test[:-6])\n",
        "print(prob[-1])"
      ],
      "execution_count": null,
      "outputs": []
    },
    {
      "cell_type": "code",
      "metadata": {
        "id": "EHMB29m4tDvt"
      },
      "source": [
        "result = get_prediction_details(ticker, api_key, multiplier, time_horizon, result, entry_price)\n",
        "pprint.pprint(result)"
      ],
      "execution_count": null,
      "outputs": []
    },
    {
      "cell_type": "code",
      "metadata": {
        "id": "fml3Wiy6tUJw",
        "colab": {
          "base_uri": "https://localhost:8080/",
          "height": 204
        },
        "outputId": "ebca0a38-3428-4ac3-b27c-ca9cf6db4db1"
      },
      "source": [
        "get_recent_data(ticker, api_key, multiplier, time_horizon)\n",
        "recent_df, entry_price = update_recent_data(ticker, api_key, multiplier, time_horizon)\n",
        "recent_df['timestamp'] = recent_df['timestamp'].apply(lambda x:datetime.fromtimestamp(x/1000))\n",
        "recent_df = recent_df[150:177] \n",
        "recent_df.tail()"
      ],
      "execution_count": null,
      "outputs": [
        {
          "output_type": "execute_result",
          "data": {
            "text/html": [
              "<div>\n",
              "<style scoped>\n",
              "    .dataframe tbody tr th:only-of-type {\n",
              "        vertical-align: middle;\n",
              "    }\n",
              "\n",
              "    .dataframe tbody tr th {\n",
              "        vertical-align: top;\n",
              "    }\n",
              "\n",
              "    .dataframe thead th {\n",
              "        text-align: right;\n",
              "    }\n",
              "</style>\n",
              "<table border=\"1\" class=\"dataframe\">\n",
              "  <thead>\n",
              "    <tr style=\"text-align: right;\">\n",
              "      <th></th>\n",
              "      <th>timestamp</th>\n",
              "      <th>open</th>\n",
              "      <th>low</th>\n",
              "      <th>high</th>\n",
              "      <th>volume</th>\n",
              "      <th>close</th>\n",
              "    </tr>\n",
              "  </thead>\n",
              "  <tbody>\n",
              "    <tr>\n",
              "      <th>172</th>\n",
              "      <td>2021-02-23 20:00:00</td>\n",
              "      <td>47.8000</td>\n",
              "      <td>47.38</td>\n",
              "      <td>48.44</td>\n",
              "      <td>2617024.0</td>\n",
              "      <td>48.4400</td>\n",
              "    </tr>\n",
              "    <tr>\n",
              "      <th>173</th>\n",
              "      <td>2021-02-23 20:15:00</td>\n",
              "      <td>48.4300</td>\n",
              "      <td>48.32</td>\n",
              "      <td>49.54</td>\n",
              "      <td>4592954.0</td>\n",
              "      <td>49.4101</td>\n",
              "    </tr>\n",
              "    <tr>\n",
              "      <th>174</th>\n",
              "      <td>2021-02-23 20:30:00</td>\n",
              "      <td>49.4300</td>\n",
              "      <td>49.16</td>\n",
              "      <td>49.67</td>\n",
              "      <td>3421473.0</td>\n",
              "      <td>49.3401</td>\n",
              "    </tr>\n",
              "    <tr>\n",
              "      <th>175</th>\n",
              "      <td>2021-02-23 20:45:00</td>\n",
              "      <td>49.3445</td>\n",
              "      <td>48.92</td>\n",
              "      <td>49.56</td>\n",
              "      <td>3603603.0</td>\n",
              "      <td>49.1084</td>\n",
              "    </tr>\n",
              "    <tr>\n",
              "      <th>176</th>\n",
              "      <td>2021-02-23 21:00:00</td>\n",
              "      <td>49.1100</td>\n",
              "      <td>48.92</td>\n",
              "      <td>49.38</td>\n",
              "      <td>122820.0</td>\n",
              "      <td>48.9900</td>\n",
              "    </tr>\n",
              "  </tbody>\n",
              "</table>\n",
              "</div>"
            ],
            "text/plain": [
              "              timestamp     open    low   high     volume    close\n",
              "172 2021-02-23 20:00:00  47.8000  47.38  48.44  2617024.0  48.4400\n",
              "173 2021-02-23 20:15:00  48.4300  48.32  49.54  4592954.0  49.4101\n",
              "174 2021-02-23 20:30:00  49.4300  49.16  49.67  3421473.0  49.3401\n",
              "175 2021-02-23 20:45:00  49.3445  48.92  49.56  3603603.0  49.1084\n",
              "176 2021-02-23 21:00:00  49.1100  48.92  49.38   122820.0  48.9900"
            ]
          },
          "metadata": {
            "tags": []
          },
          "execution_count": 52
        }
      ]
    },
    {
      "cell_type": "code",
      "metadata": {
        "id": "yIS1vxaNtgjz",
        "colab": {
          "base_uri": "https://localhost:8080/",
          "height": 204
        },
        "outputId": "f8c6a19e-c19e-4e8a-ca4e-504ebf66a06e"
      },
      "source": [
        "recent_df.head()"
      ],
      "execution_count": null,
      "outputs": [
        {
          "output_type": "execute_result",
          "data": {
            "text/html": [
              "<div>\n",
              "<style scoped>\n",
              "    .dataframe tbody tr th:only-of-type {\n",
              "        vertical-align: middle;\n",
              "    }\n",
              "\n",
              "    .dataframe tbody tr th {\n",
              "        vertical-align: top;\n",
              "    }\n",
              "\n",
              "    .dataframe thead th {\n",
              "        text-align: right;\n",
              "    }\n",
              "</style>\n",
              "<table border=\"1\" class=\"dataframe\">\n",
              "  <thead>\n",
              "    <tr style=\"text-align: right;\">\n",
              "      <th></th>\n",
              "      <th>timestamp</th>\n",
              "      <th>open</th>\n",
              "      <th>low</th>\n",
              "      <th>high</th>\n",
              "      <th>volume</th>\n",
              "      <th>close</th>\n",
              "    </tr>\n",
              "  </thead>\n",
              "  <tbody>\n",
              "    <tr>\n",
              "      <th>150</th>\n",
              "      <td>2021-02-23 14:30:00</td>\n",
              "      <td>45.62</td>\n",
              "      <td>41.6600</td>\n",
              "      <td>46.50</td>\n",
              "      <td>29282852.0</td>\n",
              "      <td>43.1900</td>\n",
              "    </tr>\n",
              "    <tr>\n",
              "      <th>151</th>\n",
              "      <td>2021-02-23 14:45:00</td>\n",
              "      <td>43.20</td>\n",
              "      <td>41.9300</td>\n",
              "      <td>45.67</td>\n",
              "      <td>14864956.0</td>\n",
              "      <td>45.2831</td>\n",
              "    </tr>\n",
              "    <tr>\n",
              "      <th>152</th>\n",
              "      <td>2021-02-23 15:00:00</td>\n",
              "      <td>45.29</td>\n",
              "      <td>45.2701</td>\n",
              "      <td>47.32</td>\n",
              "      <td>12261642.0</td>\n",
              "      <td>46.4700</td>\n",
              "    </tr>\n",
              "    <tr>\n",
              "      <th>153</th>\n",
              "      <td>2021-02-23 15:15:00</td>\n",
              "      <td>46.47</td>\n",
              "      <td>45.4200</td>\n",
              "      <td>47.80</td>\n",
              "      <td>8711603.0</td>\n",
              "      <td>47.4532</td>\n",
              "    </tr>\n",
              "    <tr>\n",
              "      <th>154</th>\n",
              "      <td>2021-02-23 15:30:00</td>\n",
              "      <td>47.47</td>\n",
              "      <td>46.8100</td>\n",
              "      <td>48.17</td>\n",
              "      <td>7117675.0</td>\n",
              "      <td>47.9885</td>\n",
              "    </tr>\n",
              "  </tbody>\n",
              "</table>\n",
              "</div>"
            ],
            "text/plain": [
              "              timestamp   open      low   high      volume    close\n",
              "150 2021-02-23 14:30:00  45.62  41.6600  46.50  29282852.0  43.1900\n",
              "151 2021-02-23 14:45:00  43.20  41.9300  45.67  14864956.0  45.2831\n",
              "152 2021-02-23 15:00:00  45.29  45.2701  47.32  12261642.0  46.4700\n",
              "153 2021-02-23 15:15:00  46.47  45.4200  47.80   8711603.0  47.4532\n",
              "154 2021-02-23 15:30:00  47.47  46.8100  48.17   7117675.0  47.9885"
            ]
          },
          "metadata": {
            "tags": []
          },
          "execution_count": 53
        }
      ]
    },
    {
      "cell_type": "code",
      "metadata": {
        "colab": {
          "base_uri": "https://localhost:8080/",
          "height": 204
        },
        "id": "WR8RQbhHirsW",
        "outputId": "94bcc629-7107-44e2-9950-56063994b605"
      },
      "source": [
        "news_df = get_recent_news(ticker)\n",
        "news_df.head()"
      ],
      "execution_count": null,
      "outputs": [
        {
          "output_type": "execute_result",
          "data": {
            "text/html": [
              "<div>\n",
              "<style scoped>\n",
              "    .dataframe tbody tr th:only-of-type {\n",
              "        vertical-align: middle;\n",
              "    }\n",
              "\n",
              "    .dataframe tbody tr th {\n",
              "        vertical-align: top;\n",
              "    }\n",
              "\n",
              "    .dataframe thead th {\n",
              "        text-align: right;\n",
              "    }\n",
              "</style>\n",
              "<table border=\"1\" class=\"dataframe\">\n",
              "  <thead>\n",
              "    <tr style=\"text-align: right;\">\n",
              "      <th></th>\n",
              "      <th>datetime</th>\n",
              "      <th>headline</th>\n",
              "      <th>summary</th>\n",
              "    </tr>\n",
              "  </thead>\n",
              "  <tbody>\n",
              "    <tr>\n",
              "      <th>0</th>\n",
              "      <td>2021-02-23 06:25:00</td>\n",
              "      <td>Lucid Motors Is Going Public. The Merger Partn...</td>\n",
              "      <td>EV start up Lucid Motors has finally agreed to...</td>\n",
              "    </tr>\n",
              "    <tr>\n",
              "      <th>1</th>\n",
              "      <td>2021-02-23 00:00:00</td>\n",
              "      <td>EV Stock Slide: Why Nio, Xpeng, Li Auto Shares...</td>\n",
              "      <td>The U.S.-listed ADSs of Chinese EV manufacture...</td>\n",
              "    </tr>\n",
              "    <tr>\n",
              "      <th>2</th>\n",
              "      <td>2021-02-22 21:03:38</td>\n",
              "      <td>Tesla: The Price Of Success And Higher Expecta...</td>\n",
              "      <td>Tesla achieved GAAP profitability for 5 straig...</td>\n",
              "    </tr>\n",
              "    <tr>\n",
              "      <th>3</th>\n",
              "      <td>2021-02-22 17:56:00</td>\n",
              "      <td>Tesla Stock Is in a Bear Market. It’s Taking O...</td>\n",
              "      <td>The decline in the stock since its January hig...</td>\n",
              "    </tr>\n",
              "    <tr>\n",
              "      <th>4</th>\n",
              "      <td>2021-02-22 16:49:00</td>\n",
              "      <td>NIO Inc. ADR falls Monday, underperforms market</td>\n",
              "      <td>The NIO Inc. ADR shed 7.92% to $50.68 Monday, ...</td>\n",
              "    </tr>\n",
              "  </tbody>\n",
              "</table>\n",
              "</div>"
            ],
            "text/plain": [
              "             datetime  ...                                            summary\n",
              "0 2021-02-23 06:25:00  ...  EV start up Lucid Motors has finally agreed to...\n",
              "1 2021-02-23 00:00:00  ...  The U.S.-listed ADSs of Chinese EV manufacture...\n",
              "2 2021-02-22 21:03:38  ...  Tesla achieved GAAP profitability for 5 straig...\n",
              "3 2021-02-22 17:56:00  ...  The decline in the stock since its January hig...\n",
              "4 2021-02-22 16:49:00  ...  The NIO Inc. ADR shed 7.92% to $50.68 Monday, ...\n",
              "\n",
              "[5 rows x 3 columns]"
            ]
          },
          "metadata": {
            "tags": []
          },
          "execution_count": 54
        }
      ]
    },
    {
      "cell_type": "code",
      "metadata": {
        "id": "KzPmYHTIkVim"
      },
      "source": [
        "news_df = combine_news_data(news_df, recent_df)\n",
        "news_df"
      ],
      "execution_count": null,
      "outputs": []
    },
    {
      "cell_type": "code",
      "metadata": {
        "id": "miY9GFlljx_K"
      },
      "source": [
        "recent_df = pd.concat([recent_df, news_df], axis=1).reindex(recent_df.index)"
      ],
      "execution_count": null,
      "outputs": []
    },
    {
      "cell_type": "code",
      "metadata": {
        "id": "HJktL8yQthAL"
      },
      "source": [
        "training_df = recent_df.drop(['timestamp'], axis=1)\n",
        "training_df['open'] *= scaler[0]\n",
        "training_df['low'] *= scaler[1]\n",
        "training_df['high'] *= scaler[2]\n",
        "training_df['volume'] *= scaler[3]\n",
        "training_df['close'] *= scaler[4]\n",
        "\n",
        "x_train, y_train = [], []\n",
        "training_df = np.asarray(training_df)\n",
        "for i in range(6, training_df.shape[0]):\n",
        "    x_train.append(training_df[i - 6: i])\n",
        "    y_train.append(training_df[i, 0])\n",
        "x_train = np.asarray(x_train)\n",
        "y_train = np.asarray(y_train)\n",
        "print(x_train.shape)\n",
        "print(y_train.shape)"
      ],
      "execution_count": null,
      "outputs": []
    },
    {
      "cell_type": "code",
      "metadata": {
        "id": "5Bb9i3lmtrN6"
      },
      "source": [
        "incorrect, correct = 0, 0\n",
        "predictions = model.predict(x_train) * 1/scaler[0]\n",
        "answers = y_train * 1/scaler[0]"
      ],
      "execution_count": null,
      "outputs": []
    },
    {
      "cell_type": "code",
      "metadata": {
        "id": "vKmGzus-tjwI"
      },
      "source": [
        "for i in range(1, x_train.shape[0]):\n",
        "    if ((predictions[i] + average - answers[i - 1] > 0) and (answers[i]  - answers[i - 1]) > 0) or ((predictions[i] + average - answers[i - 1]) < 0 and (answers[i]  - answers[i - 1]) < 0):\n",
        "        correct += 1\n",
        "        print('correct: ' + 'prediction: ' + str(round(predictions[i][0] + average, 4)) +  ' actual: ' + str(round(answers[i], 4)) + ' previous: ' + str(round(answers[i - 1], 4)))"
      ],
      "execution_count": null,
      "outputs": []
    },
    {
      "cell_type": "code",
      "metadata": {
        "id": "E0nN4TbGtrtg"
      },
      "source": [
        "for i in range(1, x_train.shape[0]):\n",
        "    if ((predictions[i] + average - answers[i - 1] > 0) and (answers[i]  - answers[i - 1]) < 0) or ((predictions[i] + average - answers[i - 1]) < 0 and (answers[i]  - answers[i - 1]) > 0):\n",
        "        incorrect += 1\n",
        "        print('incorrect: ' + 'prediction: ' + str(round(predictions[i][0] + average, 4)) +  ' actual: ' + str(round(answers[i], 4)) + ' previous: ' + str(round(answers[i - 1], 4)))"
      ],
      "execution_count": null,
      "outputs": []
    },
    {
      "cell_type": "code",
      "metadata": {
        "id": "KmoESRNUtuYy"
      },
      "source": [
        "print('Correct: ' + str(correct))\n",
        "print('Incorrect: ' + str(incorrect))\n",
        "print('Accuracy: ' + str(round(correct/(incorrect + correct), 4)))"
      ],
      "execution_count": null,
      "outputs": []
    },
    {
      "cell_type": "code",
      "metadata": {
        "id": "AfGOAAjptxyG"
      },
      "source": [
        "money = 100\n",
        "stocks = 0\n",
        "invest = False\n",
        "for i in range(1, x_train.shape[0]):\n",
        "    if not invest:\n",
        "        if predictions[i] + average - answers[i - 1] > 0:\n",
        "            invest = True\n",
        "            stocks = 100/answers[i - 1]\n",
        "    elif predictions[i] + average - answers[i - 1] > 0 and invest:\n",
        "        money = stocks * answers[i - 1]\n",
        "        invest = False"
      ],
      "execution_count": null,
      "outputs": []
    },
    {
      "cell_type": "code",
      "metadata": {
        "id": "Xd3_Dq1At1yf"
      },
      "source": [
        "print(stocks * answers[-1]) if invest else print(money)"
      ],
      "execution_count": null,
      "outputs": []
    },
    {
      "cell_type": "code",
      "metadata": {
        "id": "f4oPzrbntnmi"
      },
      "source": [
        "for i in predictions:\n",
        "    i += average"
      ],
      "execution_count": null,
      "outputs": []
    },
    {
      "cell_type": "code",
      "metadata": {
        "id": "RhIPoawousGT"
      },
      "source": [
        "visualize_model(predictions, answers, ticker)"
      ],
      "execution_count": null,
      "outputs": []
    },
    {
      "cell_type": "code",
      "metadata": {
        "id": "iDlkDxCXt5KK"
      },
      "source": [
        "model.save('Models/'+ ticker + time_horizon)"
      ],
      "execution_count": null,
      "outputs": []
    },
    {
      "cell_type": "markdown",
      "metadata": {
        "id": "uIL4Vr3avpsh"
      },
      "source": [
        "**Real Time Predictions**\n",
        "\n",
        "\n",
        "---\n",
        "\n"
      ]
    },
    {
      "cell_type": "code",
      "metadata": {
        "id": "KHi-dZvFu22T"
      },
      "source": [
        "while True:\n",
        "    get_recent_data(ticker, api_key,multiplier, time_horizon)\n",
        "    recent_df, entry_price = update_recent_data(ticker, api_key, multiplier, time_horizon)\n",
        "    recent_df['timestamp'] = recent_df['timestamp'].apply(lambda x:datetime.fromtimestamp(x/1000))\n",
        "\n",
        "    news_df = get_recent_news(ticker)\n",
        "    news_df = combine_news_data(news_df, recent_df)\n",
        "    recent_df = pd.concat([recent_df, news_df], axis=1).reindex(recent_df.index)\n",
        "\n",
        "    training_df = recent_df.drop(['timestamp'], axis=1)\n",
        "    training_df['open'] *= scaler[0]\n",
        "    training_df['low'] *= scaler[1]\n",
        "    training_df['high'] *= scaler[2]\n",
        "    training_df['volume'] *= scaler[3]\n",
        "    training_df['close'] *= scaler[4]\n",
        "    \n",
        "    entry_price = training_df.iloc[-1].iloc[0] * 1/scaler[0]\n",
        "    training_df = [training_df]\n",
        "    training_df = np.asarray(training_df)\n",
        "\n",
        "    prediction = model.predict(training_df) * 1/scaler[0] + average\n",
        "    result = get_prediction_details(ticker, api_key, 15, 'minute', prediction[0][0], entry_price)\n",
        "    pprint.pprint(result)\n",
        "    time.sleep(900)"
      ],
      "execution_count": null,
      "outputs": []
    }
  ]
}